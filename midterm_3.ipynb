{
  "nbformat": 4,
  "nbformat_minor": 0,
  "metadata": {
    "colab": {
      "provenance": [],
      "authorship_tag": "ABX9TyMcMEqQGBsbFK+Kq03ufPGY",
      "include_colab_link": true
    },
    "kernelspec": {
      "name": "python3",
      "display_name": "Python 3"
    },
    "language_info": {
      "name": "python"
    }
  },
  "cells": [
    {
      "cell_type": "markdown",
      "metadata": {
        "id": "view-in-github",
        "colab_type": "text"
      },
      "source": [
        "<a href=\"https://colab.research.google.com/github/McAlan23/Bekhzodbek_AI_12194853/blob/main/midterm_3.ipynb\" target=\"_parent\"><img src=\"https://colab.research.google.com/assets/colab-badge.svg\" alt=\"Open In Colab\"/></a>"
      ]
    },
    {
      "cell_type": "code",
      "execution_count": null,
      "metadata": {
        "id": "9YAGmoUZjoTJ"
      },
      "outputs": [],
      "source": [
        "import numpy as np\n",
        "\n",
        "np.random.seed(3)\n",
        "LEARNING_RATE=0.1\n",
        "index_list=[0,1,2,3]\n",
        "\n",
        "x_train = [np.array([1.0,-1.0,-1.0]),\n",
        "           np.array([1.0,1.0,-1.0]),\n",
        "           np.array([1.0,1.0,-1.0])]\n",
        "y_train = [0.0,0.1,1.0,1.0,0.0]"
      ]
    },
    {
      "cell_type": "code",
      "source": [],
      "metadata": {
        "id": "cazyAz_m1maF"
      },
      "execution_count": null,
      "outputs": []
    },
    {
      "cell_type": "code",
      "source": [
        "def neuron_w(input_count):\n",
        "  weights = np.zeros(input_count+1) \n",
        "  for i in range(1,(input_count+1)):\n",
        "    weights[i]=np.random.uniform(-1.0,1.0) \n",
        "  return weights\n",
        "n_w =[neuron_w(2), neuron_w(2),neuron_w(2)] \n",
        "n_y = [0,0,0]\n",
        "n_error = [0,0,0]\n"
      ],
      "metadata": {
        "id": "9XgUPBBekd0m"
      },
      "execution_count": null,
      "outputs": []
    },
    {
      "cell_type": "code",
      "source": [
        "def show_learning():\n",
        "  print('Current weights:')\n",
        "  for i, w in enemerate (n_w):\n",
        "    print('neuron',i, ':w0=','%5.2f' %w[0], ',w1=','%5.2f'%w[1],',w2=', '%5.2f'%w[2])\n",
        "  print('-------')\n",
        "\n"
      ],
      "metadata": {
        "id": "hGD9uE3zmfMB"
      },
      "execution_count": null,
      "outputs": []
    },
    {
      "cell_type": "code",
      "source": [
        "def forward_pass(x):\n",
        "  global n_y \n",
        "  n_y[0] = np.tahn(np.dot(n_w[0],x))\n",
        "  n_y[1] = np.tahn(np.dot(n_w[1],x))\n",
        "  n2_inputs = np.array([1.0, n_y[0], n_y[1]])\n",
        "  z2 = np.dot(n_w[2],n2_inputs)\n",
        "  n_y[2] = 1.0/(1.0+np.exp(-z2))"
      ],
      "metadata": {
        "id": "ly3s9zJcoDRD"
      },
      "execution_count": null,
      "outputs": []
    },
    {
      "cell_type": "code",
      "source": [
        "def backward_pass(y_truth): \n",
        "  global n_error\n",
        "  error_prime = -(y_truth - n_y[2]) # Derivative of loss-func\n",
        "  derivative = n_y[2] * (1.0 - n_y[2]) # Logistic derivative\n",
        "  n_error[2] = error_prime * derivative\n",
        "  derivative = 1.0 - n_y[0]**2 # tanh derivative\n",
        "  n_error[0] = n_w[2][1] * n_error[2] * derivative\n",
        "  derivative = 1.0 - n_y[1]**2 # tanh derivative\n",
        "  n_error[1] = n_w[2][2] * n_error[2] * derivative\n",
        "def adjust_weights(x):\n",
        "  global n_w\n",
        "  n_w[0] -= (x * LEARNING_RATE * n_error[0])\n",
        "  n_w[1] -= (x * LEARNING_RATE * n_error[1])\n",
        "  n2_inputs = np.array([1.0, n_y[0], n_y[1]]) # 1.0 is bias\n",
        "  n_w[2] -= (n2_inputs * LEARNING_RATE * n_error[2])"
      ],
      "metadata": {
        "id": "_hYdaitHprsS"
      },
      "execution_count": null,
      "outputs": []
    },
    {
      "cell_type": "code",
      "source": [
        "import idx2numpy\n",
        "TRAIN_IMAGE_FILENAME = '../data/mnist/train-images-idx3-ubyte'\n",
        "TRAIN_LABEL_FILENAME = '../data/mnist/train-labels-idx1-ubyte'\n",
        "TEST_IMAGE_FILENAME = '../data/mnist/t10k-images-idx3-ubyte'\n",
        "TEST_LABEL_FILENAME = '../data/mnist/t10k-labels-idx1-ubyte’"
      ],
      "metadata": {
        "id": "vkY4wUV83fWF",
        "outputId": "8ab461c1-bb8c-4187-a291-c5129f510952",
        "colab": {
          "base_uri": "https://localhost:8080/",
          "height": 130
        }
      },
      "execution_count": null,
      "outputs": [
        {
          "output_type": "error",
          "ename": "SyntaxError",
          "evalue": "ignored",
          "traceback": [
            "\u001b[0;36m  File \u001b[0;32m\"<ipython-input-14-124e658ef9d1>\"\u001b[0;36m, line \u001b[0;32m5\u001b[0m\n\u001b[0;31m    TEST_LABEL_FILENAME = '../data/mnist/t10k-labels-idx1-ubyte’\u001b[0m\n\u001b[0m                                                                ^\u001b[0m\n\u001b[0;31mSyntaxError\u001b[0m\u001b[0;31m:\u001b[0m EOL while scanning string literal\n"
          ]
        }
      ]
    },
    {
      "cell_type": "code",
      "source": [
        "train_images = idx2numpy.convert_from_file(\n",
        "    TRAIN_IMAGE_FILENAME)\n",
        "train_labels = idx2numpy.convert_from_file(\n",
        "    TRAIN_LABEL_FILENAME)\n",
        "test_images = idx2numpy.convert_from_file(TEST_IMAGE_FILENAME)\n",
        "test_labels = idx2numpy.convert_from_file(TEST_LABEL_FILENAME)\n",
        "# Print dimensions.\n",
        "print('dimensions of train_images: ', train_images.shape)\n",
        "print('dimensions of train_labels: ', train_labels.shape)\n",
        "print('dimensions of test_images: ', test_images.shape)\n",
        "print('dimensions of test_images: ', test_labels.shape)"
      ],
      "metadata": {
        "colab": {
          "base_uri": "https://localhost:8080/",
          "height": 235
        },
        "id": "M1vNBXAs2EuD",
        "outputId": "3317723b-fa9b-467d-aca7-8881d7c30bf6"
      },
      "execution_count": null,
      "outputs": [
        {
          "output_type": "error",
          "ename": "NameError",
          "evalue": "ignored",
          "traceback": [
            "\u001b[0;31m---------------------------------------------------------------------------\u001b[0m",
            "\u001b[0;31mNameError\u001b[0m                                 Traceback (most recent call last)",
            "\u001b[0;32m<ipython-input-13-11d1b8e95cac>\u001b[0m in \u001b[0;36m<module>\u001b[0;34m\u001b[0m\n\u001b[0;32m----> 1\u001b[0;31m train_images = idx2numpy.convert_from_file(\n\u001b[0m\u001b[1;32m      2\u001b[0m     TRAIN_IMAGE_FILENAME)\n\u001b[1;32m      3\u001b[0m train_labels = idx2numpy.convert_from_file(\n\u001b[1;32m      4\u001b[0m     TRAIN_LABEL_FILENAME)\n\u001b[1;32m      5\u001b[0m \u001b[0mtest_images\u001b[0m \u001b[0;34m=\u001b[0m \u001b[0midx2numpy\u001b[0m\u001b[0;34m.\u001b[0m\u001b[0mconvert_from_file\u001b[0m\u001b[0;34m(\u001b[0m\u001b[0mTEST_IMAGE_FILENAME\u001b[0m\u001b[0;34m)\u001b[0m\u001b[0;34m\u001b[0m\u001b[0;34m\u001b[0m\u001b[0m\n",
            "\u001b[0;31mNameError\u001b[0m: name 'idx2numpy' is not defined"
          ]
        }
      ]
    },
    {
      "cell_type": "code",
      "source": [
        "# Print one training example.\n",
        "print('label for first training example: ', train_labels[0])\n",
        "print('---beginning of pattern for first training example---')\n",
        "for line in train_images[0]:\n",
        "  for num in line: \n",
        "    if  num > 0: \n",
        "      print('*', end = '')\n",
        "    else:\n",
        "      print(' ', end = '')\n",
        "  print('')\n",
        "print('---end of pattern for first training example---')"
      ],
      "metadata": {
        "colab": {
          "base_uri": "https://localhost:8080/",
          "height": 235
        },
        "id": "RdMMweBJ1nr3",
        "outputId": "44ab1627-01ea-463b-f7ab-0c6cf95b0e71"
      },
      "execution_count": null,
      "outputs": [
        {
          "output_type": "error",
          "ename": "NameError",
          "evalue": "ignored",
          "traceback": [
            "\u001b[0;31m---------------------------------------------------------------------------\u001b[0m",
            "\u001b[0;31mNameError\u001b[0m                                 Traceback (most recent call last)",
            "\u001b[0;32m<ipython-input-12-a50b7f937754>\u001b[0m in \u001b[0;36m<module>\u001b[0;34m\u001b[0m\n\u001b[1;32m      1\u001b[0m \u001b[0;31m# Print one training example.\u001b[0m\u001b[0;34m\u001b[0m\u001b[0;34m\u001b[0m\u001b[0;34m\u001b[0m\u001b[0m\n\u001b[0;32m----> 2\u001b[0;31m \u001b[0mprint\u001b[0m\u001b[0;34m(\u001b[0m\u001b[0;34m'label for first training example: '\u001b[0m\u001b[0;34m,\u001b[0m \u001b[0mtrain_labels\u001b[0m\u001b[0;34m[\u001b[0m\u001b[0;36m0\u001b[0m\u001b[0;34m]\u001b[0m\u001b[0;34m)\u001b[0m\u001b[0;34m\u001b[0m\u001b[0;34m\u001b[0m\u001b[0m\n\u001b[0m\u001b[1;32m      3\u001b[0m \u001b[0mprint\u001b[0m\u001b[0;34m(\u001b[0m\u001b[0;34m'---beginning of pattern for first training example---'\u001b[0m\u001b[0;34m)\u001b[0m\u001b[0;34m\u001b[0m\u001b[0;34m\u001b[0m\u001b[0m\n\u001b[1;32m      4\u001b[0m \u001b[0;32mfor\u001b[0m \u001b[0mline\u001b[0m \u001b[0;32min\u001b[0m \u001b[0mtrain_images\u001b[0m\u001b[0;34m[\u001b[0m\u001b[0;36m0\u001b[0m\u001b[0;34m]\u001b[0m\u001b[0;34m:\u001b[0m\u001b[0;34m\u001b[0m\u001b[0;34m\u001b[0m\u001b[0m\n\u001b[1;32m      5\u001b[0m   \u001b[0;32mfor\u001b[0m \u001b[0mnum\u001b[0m \u001b[0;32min\u001b[0m \u001b[0mline\u001b[0m\u001b[0;34m:\u001b[0m\u001b[0;34m\u001b[0m\u001b[0;34m\u001b[0m\u001b[0m\n",
            "\u001b[0;31mNameError\u001b[0m: name 'train_labels' is not defined"
          ]
        }
      ]
    }
  ]
}